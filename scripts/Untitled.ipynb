{
 "cells": [
  {
   "cell_type": "code",
   "execution_count": 1,
   "id": "2441fe14-9770-48c6-a528-ddf7ab9607ee",
   "metadata": {},
   "outputs": [],
   "source": [
    "import os\n",
    "import re\n",
    "\n",
    "colors_file_path = '/home/thomasdevasia/.config/hypr/colors-hyprland.conf'\n",
    "\n",
    "# wallpaper lock color\n",
    "colors = {}\n",
    "with open(colors_file_path, 'r') as file:\n",
    "    content = file.read()\n",
    "    for color in content.split('\\n'):\n",
    "        var = color.split('=')[0].strip()\n",
    "        val =  color.split('=')[1].strip()\n",
    "        colors[var] = val\n"
   ]
  },
  {
   "cell_type": "code",
   "execution_count": 2,
   "id": "3fd07ea0-fd86-4ffa-bf5c-43ed46899e49",
   "metadata": {},
   "outputs": [
    {
     "data": {
      "text/plain": [
       "{'$foregroundCol': 'rgb(efe0cf)',\n",
       " '$backgroundCol': 'rgb(090908)',\n",
       " '$color0': 'rgb(090908)',\n",
       " '$color1': 'rgb(71896D)',\n",
       " '$color2': 'rgb(BDAC30)',\n",
       " '$color3': 'rgb(839556)',\n",
       " '$color4': 'rgb(8E9868)',\n",
       " '$color5': 'rgb(58B1A6)',\n",
       " '$color6': 'rgb(BEA99A)',\n",
       " '$color7': 'rgb(efe0cf)',\n",
       " '$color8': 'rgb(a79c90)',\n",
       " '$color9': 'rgb(71896D)',\n",
       " '$color10': 'rgb(BDAC30)',\n",
       " '$color11': 'rgb(839556)',\n",
       " '$color12': 'rgb(8E9868)',\n",
       " '$color13': 'rgb(58B1A6)',\n",
       " '$color14': 'rgb(BEA99A)',\n",
       " '$color15': 'rgb(efe0cf)'}"
      ]
     },
     "execution_count": 2,
     "metadata": {},
     "output_type": "execute_result"
    }
   ],
   "source": [
    "colors"
   ]
  },
  {
   "cell_type": "code",
   "execution_count": 15,
   "id": "1fdcfa7d-7226-4ff9-ba49-9fc0044341dd",
   "metadata": {},
   "outputs": [
    {
     "data": {
      "text/plain": [
       "'$foregroundCol = rgb(efe0cf)\\n$backgroundCol = rgb(090908)\\n$color0 = rgb(090908)\\n$color1 = rgb(71896D)\\n$color2 = rgb(BDAC30)\\n$color3 = rgb(839556)\\n$color4 = rgb(8E9868)\\n$color5 = rgb(58B1A6)\\n$color6 = rgb(BEA99A)\\n$color7 = rgb(efe0cf)\\n$color8 = rgb(a79c90)\\n$color9 = rgb(71896D)\\n$color10 = rgb(BDAC30)\\n$color11 = rgb(839556)\\n$color12 = rgb(8E9868)\\n$color13 = rgb(58B1A6)\\n$color14 = rgb(BEA99A)\\n$color15 = rgb(efe0cf)'"
      ]
     },
     "execution_count": 15,
     "metadata": {},
     "output_type": "execute_result"
    }
   ],
   "source": [
    "with open(colors_file_path, 'r') as file:\n",
    "    content = file.read()\n",
    " \n",
    "# content = re.sub(r'    color = rgb\\(.*\\)',f'    color = {colors[\"$color3\"]}',content)\n",
    "\n",
    "# with open(colors_file_path, 'w') as file:\n",
    "#     file.write(content)\n",
    "\n",
    "# print('done-----------------------------------------------')\n",
    "content"
   ]
  },
  {
   "cell_type": "code",
   "execution_count": 12,
   "id": "491318d8-6fcb-4723-8a3c-a32f2081d403",
   "metadata": {},
   "outputs": [
    {
     "data": {
      "text/plain": [
       "[]"
      ]
     },
     "execution_count": 12,
     "metadata": {},
     "output_type": "execute_result"
    }
   ],
   "source": [
    "re.findall(r'    color',content)"
   ]
  }
 ],
 "metadata": {
  "kernelspec": {
   "display_name": "Python 3 (ipykernel)",
   "language": "python",
   "name": "python3"
  },
  "language_info": {
   "codemirror_mode": {
    "name": "ipython",
    "version": 3
   },
   "file_extension": ".py",
   "mimetype": "text/x-python",
   "name": "python",
   "nbconvert_exporter": "python",
   "pygments_lexer": "ipython3",
   "version": "3.11.4"
  }
 },
 "nbformat": 4,
 "nbformat_minor": 5
}
